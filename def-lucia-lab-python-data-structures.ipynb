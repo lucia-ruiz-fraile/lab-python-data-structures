{
 "cells": [
  {
   "cell_type": "markdown",
   "metadata": {
    "tags": []
   },
   "source": [
    "# Lab | Data Structures "
   ]
  },
  {
   "cell_type": "markdown",
   "metadata": {},
   "source": [
    "## Exercise: Managing Customer Orders\n",
    "\n",
    "As part of a business venture, you are starting an online store that sells various products. To ensure smooth operations, you need to develop a program that manages customer orders and inventory.\n",
    "\n",
    "Follow the steps below to complete the exercise:\n",
    "\n",
    "1. Define a list called `products` that contains the following items: \"t-shirt\", \"mug\", \"hat\", \"book\", \"keychain\".\n",
    "\n",
    "2. Create an empty dictionary called `inventory`.\n",
    "\n",
    "3. Ask the user to input the quantity of each product available in the inventory. Use the product names from the `products` list as keys in the `inventory` dictionary and assign the respective quantities as values.\n",
    "\n",
    "4. Create an empty set called `customer_orders`.\n",
    "\n",
    "5. Ask the user to input the name of three products that a customer wants to order (from those in the products list, meaning three products out of \"t-shirt\", \"mug\", \"hat\", \"book\" or \"keychain\". Add each product name to the `customer_orders` set.\n",
    "\n",
    "6. Print the products in the `customer_orders` set.\n",
    "\n",
    "7. Calculate the following order statistics:\n",
    "   - Total Products Ordered: The total number of products in the `customer_orders` set.\n",
    "   - Percentage of Products Ordered: The percentage of products ordered compared to the total available products.\n",
    "   \n",
    "   Store these statistics in a tuple called `order_status`.\n",
    "\n",
    "8. Print the order statistics using the following format:\n",
    "   ```\n",
    "   Order Statistics:\n",
    "   Total Products Ordered: <total_products_ordered>\n",
    "   Percentage of Products Ordered: <percentage_ordered>% \n",
    "   ```\n",
    "\n",
    "9. Update the inventory by subtracting 1 from the quantity of each product. Modify the `inventory` dictionary accordingly.\n",
    "\n",
    "10. Print the updated inventory, displaying the quantity of each product on separate lines.\n",
    "\n",
    "Solve the exercise by implementing the steps using the Python concepts of lists, dictionaries, sets, and basic input/output operations. "
   ]
  },
  {
   "cell_type": "code",
   "execution_count": 28,
   "metadata": {},
   "outputs": [
    {
     "name": "stdin",
     "output_type": "stream",
     "text": [
      "Enter the quantity of t-shirt 1\n",
      "Enter the quantity of mug 2\n",
      "Enter the quantity of hat 3\n",
      "Enter the quantity of book 4\n",
      "Enter the quantity of keychain 5\n"
     ]
    },
    {
     "name": "stdout",
     "output_type": "stream",
     "text": [
      "{'t-shirt': 1, 'mug': 2, 'hat': 3, 'book': 4, 'keychain': 5}\n"
     ]
    },
    {
     "name": "stdin",
     "output_type": "stream",
     "text": [
      "Enter one product you want to order: book\n",
      "Enter another product you want to order: hat\n",
      "Enter the last product you want to order: mug\n"
     ]
    },
    {
     "name": "stdout",
     "output_type": "stream",
     "text": [
      "{'hat', 'book', 'mug'}\n"
     ]
    }
   ],
   "source": [
    "products = [\"t-shirt\", \"mug\", \"hat\", \"book\", \"keychain\"]\n",
    "inventory = {}\n",
    "quantity_0 = int (input(\"Enter the quantity of t-shirt\"))\n",
    "quantity_1 = int (input(\"Enter the quantity of mug\"))\n",
    "quantity_2 = int (input(\"Enter the quantity of hat\"))\n",
    "quantity_3 = int (input(\"Enter the quantity of book\"))\n",
    "quantity_4 = int (input(\"Enter the quantity of keychain\"))\n",
    "\n",
    "inventory = {\"t-shirt\" : quantity_0, \"mug\" : quantity_1 , \"hat\" : quantity_2 , \"book\" : quantity_3 , \"keychain\" : quantity_4}\n",
    "print(inventory)\n",
    "customer_orders = {}\n",
    "order_1_product= (input ( \"Enter one product you want to order:\" ) )\n",
    "order_2_product= (input ( \"Enter another product you want to order:\" ) )\n",
    "order_3_product= (input ( \"Enter the last product you want to order:\" ) )\n",
    "\n",
    "customer_orders = { order_1_product, order_2_product ,order_3_product}\n",
    "print (customer_orders)\n"
   ]
  },
  {
   "cell_type": "code",
   "execution_count": 30,
   "metadata": {},
   "outputs": [
    {
     "data": {
      "text/plain": [
       "3"
      ]
     },
     "execution_count": 30,
     "metadata": {},
     "output_type": "execute_result"
    }
   ],
   "source": [
    "total_ordered = len(customer_orders)\n",
    "percentage_ordered = (total_ordered / len(products)) * 100\n",
    "\n",
    "order_status=(total_ordered, percentage_ordered)\n",
    "total_ordered"
   ]
  },
  {
   "cell_type": "code",
   "execution_count": 40,
   "metadata": {},
   "outputs": [
    {
     "name": "stdout",
     "output_type": "stream",
     "text": [
      "The total products ordered 3 and percentage of products ordered 60.0%.\n",
      "dict_values([-1, 0, 1, 2, 3])\n"
     ]
    }
   ],
   "source": [
    "order_statistics = f\"The total products ordered {total_ordered} and percentage of products ordered {percentage_ordered}%.\"\n",
    "print(order_statistics)\n",
    "inventory [\"t-shirt\"]-= 1\n",
    "inventory [\"mug\"]-= 1\n",
    "inventory [\"hat\"]-= 1\n",
    "inventory [\"book\"]-= 1\n",
    "inventory [\"keychain\"]-= 1\n",
    "print(inventory.values()) "
   ]
  }
 ],
 "metadata": {
  "kernelspec": {
   "display_name": "Python [conda env:base] *",
   "language": "python",
   "name": "conda-base-py"
  },
  "language_info": {
   "codemirror_mode": {
    "name": "ipython",
    "version": 3
   },
   "file_extension": ".py",
   "mimetype": "text/x-python",
   "name": "python",
   "nbconvert_exporter": "python",
   "pygments_lexer": "ipython3",
   "version": "3.12.7"
  }
 },
 "nbformat": 4,
 "nbformat_minor": 4
}
